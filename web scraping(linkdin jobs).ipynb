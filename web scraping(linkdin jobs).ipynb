{
 "cells": [
  {
   "cell_type": "code",
   "execution_count": 1,
   "id": "19c7cf86",
   "metadata": {},
   "outputs": [],
   "source": [
    "from selenium import webdriver\n",
    "from bs4 import BeautifulSoup\n",
    "import time\n",
    "import pandas as pd\n",
    "import re"
   ]
  },
  {
   "cell_type": "code",
   "execution_count": 2,
   "id": "5f4293fa",
   "metadata": {},
   "outputs": [
    {
     "name": "stderr",
     "output_type": "stream",
     "text": [
      "C:\\Users\\acer01\\AppData\\Local\\Temp/ipykernel_14496/448062205.py:1: DeprecationWarning: executable_path has been deprecated, please pass in a Service object\n",
      "  driver = webdriver.Chrome(\"C:\\webdrivers\\chromedriver.exe\")\n"
     ]
    }
   ],
   "source": [
    "driver = webdriver.Chrome(\"C:\\webdrivers\\chromedriver.exe\")\n",
    "driver.get(\"https://www.linkedin.com/login?fromSignIn=true&trk=guest_homepage-basic_nav-header-signin\")"
   ]
  },
  {
   "cell_type": "code",
   "execution_count": 3,
   "id": "3c11b24c",
   "metadata": {},
   "outputs": [
    {
     "name": "stderr",
     "output_type": "stream",
     "text": [
      "C:\\Users\\acer01\\AppData\\Local\\Temp/ipykernel_14496/2172553304.py:4: DeprecationWarning: find_element_by_* commands are deprecated. Please use find_element() instead\n",
      "  username = driver.find_element_by_id(\"username\")\n",
      "C:\\Users\\acer01\\AppData\\Local\\Temp/ipykernel_14496/2172553304.py:8: DeprecationWarning: find_element_by_* commands are deprecated. Please use find_element() instead\n",
      "  pword = driver.find_element_by_id(\"password\")\n"
     ]
    }
   ],
   "source": [
    "# waiting for the page to load\n",
    "time.sleep(5)\n",
    "# entering username\n",
    "username = driver.find_element_by_id(\"username\")\n",
    "# Enter Your Email Address\n",
    "username.send_keys(\"imtiyaz.ali357786@gmail.com\")\n",
    "# entering password\n",
    "pword = driver.find_element_by_id(\"password\")\n",
    "# Enter Your Password\n",
    "pword.send_keys(\"9985359961\")"
   ]
  },
  {
   "cell_type": "code",
   "execution_count": 4,
   "id": "5485746c",
   "metadata": {},
   "outputs": [
    {
     "name": "stderr",
     "output_type": "stream",
     "text": [
      "C:\\Users\\acer01\\AppData\\Local\\Temp/ipykernel_14496/2775942265.py:1: DeprecationWarning: find_element_by_xpath is deprecated. Please use find_element(by=By.XPATH, value=xpath) instead\n",
      "  driver.find_element_by_xpath(\"//button[@type='submit']\").click()\n"
     ]
    }
   ],
   "source": [
    "driver.find_element_by_xpath(\"//button[@type='submit']\").click()"
   ]
  },
  {
   "cell_type": "code",
   "execution_count": 5,
   "id": "ee906946",
   "metadata": {},
   "outputs": [],
   "source": [
    "driver.get('https://www.linkedin.com/jobs/')"
   ]
  },
  {
   "cell_type": "code",
   "execution_count": 6,
   "id": "8fb3f2be",
   "metadata": {},
   "outputs": [
    {
     "name": "stderr",
     "output_type": "stream",
     "text": [
      "C:\\Users\\acer01\\AppData\\Local\\Temp/ipykernel_14496/1265026744.py:1: DeprecationWarning: find_element_by_xpath is deprecated. Please use find_element(by=By.XPATH, value=xpath) instead\n",
      "  jobs = driver.find_element_by_xpath(\"//a[@data-link-to='jobs']/span\")\n"
     ]
    }
   ],
   "source": [
    "#Extracting Job Search Data\n",
    "jobs = driver.find_element_by_xpath(\"//a[@data-link-to='jobs']/span\")\n",
    "# In case of an error, try changing the XPath.\n",
    "  \n",
    "jobs.click()"
   ]
  },
  {
   "cell_type": "code",
   "execution_count": 7,
   "id": "7739f463",
   "metadata": {},
   "outputs": [],
   "source": [
    "#Now that the jobs page is open, we will create a BeautifulSoup object to scrape the data.\n",
    "\n",
    "job_src = driver.page_source\n",
    "soup = BeautifulSoup(job_src, 'lxml')   "
   ]
  },
  {
   "cell_type": "code",
   "execution_count": 8,
   "id": "82ae555f",
   "metadata": {},
   "outputs": [
    {
     "name": "stdout",
     "output_type": "stream",
     "text": [
      "['Competitive Analysis Intern', 'SQL SME', 'SQL SME', 'SQL Engineer', 'SQL Programmer', 'Cloud Support Engineer - Analytics', 'Software Development Engineer, Alexa Data Services', 'Data Engineer: Data Modeling', 'Data Analyst-GTO-Hyderabad', 'Data Analyst, Regulatory Risk and Compliance', 'Engr III Cslt-Data Engineering', 'Analyst I - Apps Prog', 'Data Engineer', 'Data Analyst, Trilogy (Remote) - $60,000/year USD', 'Data Analyst- Remote', 'Innovation Engineer, People Analytics', 'Analyst-Procure to Pay Processing', 'Adv. Analyst I, Infra Run', 'Developer', 'Power BI Consultant', 'Business Analyst', 'Tech Process Senior Associate - QASA', 'Data Engineer - Business Intelligence', 'Data Engineer 3-5', 'Analyst, Index Data Operations', 'Data Analyst', 'Power BI Analyst', 'Oracle / MS SQL DBA']\n"
     ]
    }
   ],
   "source": [
    "#Scrape Job Title:\n",
    "jobs_html = soup.find_all('a', {'class': 'job-card-list__title'})\n",
    "# In case of an error, try changing the XPath.\n",
    "  \n",
    "job_titles = []\n",
    "  \n",
    "for title in jobs_html:\n",
    "    job_titles.append(title.text.strip())\n",
    "  \n",
    "print(job_titles)"
   ]
  },
  {
   "cell_type": "code",
   "execution_count": 9,
   "id": "cc2c7254",
   "metadata": {},
   "outputs": [
    {
     "name": "stdout",
     "output_type": "stream",
     "text": [
      "[\"Engineer's Cradle\", 'Growth Central VC', 'Growth Central VC', 'Tata Consultancy Services', 'Amazon Web Services (AWS)', 'Amazon', 'IBM', 'Deloitte', 'Google', 'Verizon', 'Bank of America', 'Epiq', 'Crossover for Work', 'McAfee', 'Micron Technology', 'Accenture in India', 'Invesco Ltd.', 'Wipro', 'Infosys', 'Amazon', 'Google Operations Center', 'Align Technology', 'PayPal', 'ICE', 'University of the People', 'Dell Technologies', 'Pythian']\n"
     ]
    }
   ],
   "source": [
    "#Scrape Company Name:\n",
    "company_name_html = soup.find_all(\n",
    "  'div', {'class': 'job-card-container__company-name'})\n",
    "company_names = []\n",
    "  \n",
    "for name in company_name_html:\n",
    "    company_names.append(name.text.strip())\n",
    "  \n",
    "print(company_names)"
   ]
  },
  {
   "cell_type": "code",
   "execution_count": 10,
   "id": "6963bae6",
   "metadata": {},
   "outputs": [
    {
     "name": "stdout",
     "output_type": "stream",
     "text": [
      "['India Remote', 'India Remote', 'India Remote', 'Noida, Uttar Pradesh, India Remote', 'Hyderabad, Telangana, India On-site', 'Hyderabad, Telangana, India', 'Hyderabad, Telangana, India', 'Hyderabad, Telangana, India On-site', 'Hyderabad, Telangana, India', 'Hyderabad, Telangana, India On-site', 'Hyderabad, Telangana, India', 'Hyderabad, Telangana, India', 'Hyderabad, Telangana, India', 'Bengaluru, Karnataka, India Remote', 'Bengaluru, Karnataka, India Remote', 'Hyderabad, Telangana, India', 'Hyderabad, Telangana, India On-site', 'Hyderabad, Telangana, India', 'Hyderabad, Telangana, India On-site', 'Hyderabad, Telangana, India', 'Hyderabad, Telangana, India', 'Hyderabad, Telangana, India', 'Hyderabad, Telangana, India On-site', 'Hyderabad, Telangana, India', 'Hyderabad, Telangana, India', 'India Remote', 'Hyderabad, Telangana, India', 'Hyderabad, Telangana, India']\n"
     ]
    }
   ],
   "source": [
    "#scrape location\n",
    "import re   # for removing the extra blank spaces\n",
    "  \n",
    "location_html = soup.find_all(\n",
    "    'ul', {'class': 'job-card-container__metadata-wrapper'})\n",
    "  \n",
    "location_list = []\n",
    "  \n",
    "for loc in location_html:\n",
    "    res = re.sub('\\n\\n +', ' ', loc.text.strip())\n",
    "  \n",
    "    location_list.append(res)\n",
    "  \n",
    "print(location_list)"
   ]
  },
  {
   "cell_type": "code",
   "execution_count": null,
   "id": "679200f7",
   "metadata": {},
   "outputs": [],
   "source": []
  }
 ],
 "metadata": {
  "kernelspec": {
   "display_name": "Python 3 (ipykernel)",
   "language": "python",
   "name": "python3"
  },
  "language_info": {
   "codemirror_mode": {
    "name": "ipython",
    "version": 3
   },
   "file_extension": ".py",
   "mimetype": "text/x-python",
   "name": "python",
   "nbconvert_exporter": "python",
   "pygments_lexer": "ipython3",
   "version": "3.9.7"
  }
 },
 "nbformat": 4,
 "nbformat_minor": 5
}
