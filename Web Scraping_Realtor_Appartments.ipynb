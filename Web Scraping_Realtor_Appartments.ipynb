{
 "cells": [
  {
   "cell_type": "markdown",
   "id": "43380b67",
   "metadata": {},
   "source": [
    " import libraries"
   ]
  },
  {
   "cell_type": "code",
   "execution_count": null,
   "id": "6c86704a",
   "metadata": {},
   "outputs": [],
   "source": [
    "import requests\n",
    "import pandas as pd"
   ]
  },
  {
   "cell_type": "markdown",
   "id": "61985db6",
   "metadata": {},
   "source": [
    "Requests & CURL"
   ]
  },
  {
   "cell_type": "code",
   "execution_count": null,
   "id": "7917cff2",
   "metadata": {},
   "outputs": [],
   "source": [
    "\n",
    "cookies = {\n",
    "    'visid_incap_2269415': '+NkNgRIfTwOrm/s4ITM2t9OTF2IAAAAAQUIPAAAAAAD6dXbRxs0rutK/gFLim+Sv',\n",
    "    '_ga_Y07J3B53QP': 'GS1.1.1645712348.1.1.1645712756.60',\n",
    "    '_ga': 'GA1.2.2060581675.1645712349',\n",
    "    '_gid': 'GA1.2.606170288.1645712349',\n",
    "    'reese84': '3:5M7QeuFfJglY+Y83Xd2dOg==:2dG6OeiQVqbmWKgUTHQXzzkM+K21pQ7io0wyCLKnsjd/Iqf/2WPVqyNC5SQ5C2MJb90UE5YRkfiIMcZfejwXCoamXnT4CTSQAOQrFLBZ+6Mwf3bXeGZB7DL4b7xpgrcAvy3mF1xqG4LOn0mLU3ISwwM/UebtoDEiB8kiG7McTOoe0devlFsI1y+TnJeGlaVQpz2JP+VaxojSHnxJSJbfpKpan//4/ZMXL2oczID7N54JuCsPe2CW2nTsCJO+60ry6Vay9KWmQPQtmI99GYHMrr9gtxI00Y9OzfqIUwyrCAh7S47anCxr0zuDWLzYEaWVQDOFgV08yGcmKNGEHMZcoig7E5bpoI3tMxFisZZsKctvZpGePFEd7rG0AlNAWUknzvEBbDMQ09ExC1hjG1ScXBbDJVigTme/v5Lk7G8saDs=:Z5E14XVJT/YsII9ibpnc1N+AJ5SmCUSnvgMD6KDpKsQ=',\n",
    "    '_4c_': '%7B%22_4c_s_%22%3A%22fVLBitswEP2VoHNsJFuypNzKlpZAD6VQegyKNXZEvJaRlXi3wf%2FekePd0C7UB3nmzbw34o1uZDpBT3as4kKyotJcSrklZ3gdye5GgrPpdyU7UtpaajAiE1bVGTeyyHTBRXYEYRpWG2gUkC15SVqi5EqVXGtdzVtSD6vGjdTeAmoxnTOeM5o1I1Li7yRfUgyH4O2ljof4OqS%2BCY6b0Z6xYOHqajhMzsZTEhBl9UBP4NpTRFhVPKFDSC15ITCZXG%2F99C9xRd%2BJsmSIHoOfRkjkLy5A4182WiLs0Qrya2Gk62IFQljaMBtdTDcNYLroQ16bFUMHH3C2wN9M315MuxiQUt%2B2YDd7dJ80phuTe9%2BDv7q%2Bhrv2k7%2F0MSSdfW9dkvgBo7PQR2c6H5788zMEV5tumfReST6mjSUvOo%2FlJIdL3uKR8CFYjL9%2BOvzcf8a0oBUVilVS5OsrwM2ReV0lAlpTzWmBzyJGHIUm0%2FTN9zHLZvnf3YWi1cduC%2BM5%2BiF7MwX6%2F%2FDVR%2F7Vvb1FVYAsAEQmS1FlvMToKKjFSBSV4sBKQ8lDknGuS8rEKsnUXXGe%2FwA%3D%22%7D',\n",
    "    'gig_bootstrap_3_mrQiIl6ov44s2X3j6NGWVZ9SDDtplqV7WgdcyEpGYnYxl7ygDWPQHqQqtpSiUfko': 'gigya-pr_ver4',\n",
    "    '_fbp': 'fb.1.1645712352800.1255830025',\n",
    "    'visid_incap_2271082': 'YFIM2vKtR9mFawrlAhKkyOqTF2IAAAAAQUIPAAAAAACLwkFtfYkaV3B43t2h4ODE',\n",
    "    'incap_ses_795_2269415': 'iSSUN5m6ghpgKG/E0GgICyCVF2IAAAAAn99xErBz8i/lmuYxWVeqnA==',\n",
    "    'nlbi_2269415': 'LJpaC/TkZCfgcG3ykG5lugAAAADNQDIunEh9NRul1z3467wu',\n",
    "    'nlbi_2269415_2147483392': '6GvyDP63VFwDB3nykG5lugAAAACGgIirO26125LiOrzVC++n',\n",
    "    'ASP.NET_SessionId': 'edmcozxrn1hzitmpcuwyzm4l',\n",
    "    'nlbi_2271082': 'Nc+9Cso6FE9EVUIXcbDG1QAAAADsCT5h5xJzFwtph3vc0Xna',\n",
    "    'incap_ses_795_2271082': '0PG7fZ6f12wIeW/E0GgICyqVF2IAAAAAKv9cwv9yorguK0V8S1UT6w==',\n",
    "    '_gali': 'ListViewPagination_Bottom',\n",
    "}\n",
    "\n",
    "headers = {\n",
    "    'User-Agent': 'Mozilla/5.0 (Windows NT 10.0; Win64; x64; rv:97.0) Gecko/20100101 Firefox/97.0',\n",
    "    'Accept': '*/*',\n",
    "    'Accept-Language': 'en-US,en;q=0.5',\n",
    "    'Accept-Encoding': 'gzip, deflate, br',\n",
    "    'Content-Type': 'application/x-www-form-urlencoded; charset=UTF-8',\n",
    "    'Origin': 'https://www.realtor.ca',\n",
    "    'Sec-Fetch-Dest': 'empty',\n",
    "    'Sec-Fetch-Mode': 'cors',\n",
    "    'Sec-Fetch-Site': 'same-site',\n",
    "    'Referer': 'https://www.realtor.ca/',\n",
    "    'Connection': 'keep-alive',\n",
    "    'TE': 'trailers',\n",
    "}\n",
    "\n",
    "data = {\n",
    "  'ZoomLevel': '9',\n",
    "  'LatitudeMax': '45.78820',\n",
    "  'LongitudeMax': '-74.15200',\n",
    "  'LatitudeMin': '44.70730',\n",
    "  'LongitudeMin': '-77.44790',\n",
    "  'Sort': '6-D',\n",
    "  'PropertyTypeGroupID': '1',\n",
    "  'PropertySearchTypeId': '1',\n",
    "  'TransactionTypeId': '2',\n",
    "  'Currency': 'CAD',\n",
    "  'RecordsPerPage': '12',\n",
    "  'ApplicationId': '1',\n",
    "  'CultureId': '1',\n",
    "  'Version': '7.0',\n",
    "  'CurrentPage': '1'\n",
    "}\n",
    "\n",
    "response = requests.post('https://api2.realtor.ca/Listing.svc/PropertySearch_Post', headers=headers, cookies=cookies, data=data)\n",
    "\n"
   ]
  },
  {
   "cell_type": "code",
   "execution_count": null,
   "id": "fda5980d",
   "metadata": {},
   "outputs": [],
   "source": [
    "#check Status Code\n",
    "response"
   ]
  },
  {
   "cell_type": "code",
   "execution_count": null,
   "id": "e79f293c",
   "metadata": {},
   "outputs": [],
   "source": [
    "#Create Json Objects\n",
    "result_json = response.json()"
   ]
  },
  {
   "cell_type": "code",
   "execution_count": null,
   "id": "69ee47dd",
   "metadata": {},
   "outputs": [],
   "source": [
    "#Output Keys()\n",
    "result_json.keys()"
   ]
  },
  {
   "cell_type": "markdown",
   "id": "512d2dc3",
   "metadata": {},
   "source": [
    "#Find the Data\n",
    "1)address\n",
    "2)Bedrooms\n",
    "3)Agent Name\n",
    "4)Area Code\n",
    "5)Phone Number\n",
    "6)Price"
   ]
  },
  {
   "cell_type": "code",
   "execution_count": null,
   "id": "5fca171e",
   "metadata": {},
   "outputs": [],
   "source": [
    "result_json['Results']"
   ]
  },
  {
   "cell_type": "code",
   "execution_count": null,
   "id": "72e60818",
   "metadata": {},
   "outputs": [],
   "source": [
    "len(result_json['Results'])"
   ]
  },
  {
   "cell_type": "code",
   "execution_count": null,
   "id": "dd1508fe",
   "metadata": {},
   "outputs": [],
   "source": [
    "#using different variable (Starting point)\n",
    "result_item = result_json['Results']\n",
    "len(result_item)"
   ]
  },
  {
   "cell_type": "code",
   "execution_count": null,
   "id": "1da5c3b3",
   "metadata": {},
   "outputs": [],
   "source": [
    "#address first result\n",
    "result_item[0]['Property']['Address']['AddressText']"
   ]
  },
  {
   "cell_type": "code",
   "execution_count": null,
   "id": "5db98e9c",
   "metadata": {},
   "outputs": [],
   "source": [
    "#Bedroom\n",
    "result_item[0]['Building']['Bedrooms']"
   ]
  },
  {
   "cell_type": "code",
   "execution_count": null,
   "id": "7f09296f",
   "metadata": {},
   "outputs": [],
   "source": [
    "#bathroom\n",
    "result_item[0]['Building']['BathroomTotal']"
   ]
  },
  {
   "cell_type": "code",
   "execution_count": null,
   "id": "0d4335dc",
   "metadata": {},
   "outputs": [],
   "source": [
    "#Agent name\n",
    "result_item[0]['Individual'][0]['Name']"
   ]
  },
  {
   "cell_type": "code",
   "execution_count": null,
   "id": "84f1e63f",
   "metadata": {},
   "outputs": [],
   "source": [
    "#area code(list indices must be integers or slices, not str)first select indexing\n",
    "result_item[0]['Individual'][0]['Phones'][0]['AreaCode']"
   ]
  },
  {
   "cell_type": "code",
   "execution_count": null,
   "id": "212f42ab",
   "metadata": {},
   "outputs": [],
   "source": [
    "#contact number\n",
    "result_item[0]['Individual'][0]['Phones'][0]['PhoneNumber']"
   ]
  },
  {
   "cell_type": "code",
   "execution_count": null,
   "id": "65485a1e",
   "metadata": {},
   "outputs": [],
   "source": [
    "#price\n",
    "result_item[0]['Property']['Price']"
   ]
  },
  {
   "cell_type": "markdown",
   "id": "b4b39d1e",
   "metadata": {},
   "source": [
    "put everything together -loop"
   ]
  },
  {
   "cell_type": "code",
   "execution_count": null,
   "id": "114902c9",
   "metadata": {},
   "outputs": [],
   "source": [
    "#pandas Data frame\n",
    "df_realtor = pd.DataFrame({'Address':Address,'Bedrooms':Bedrooms,'Bathrooms':Bathrooms,'Agent_Name':Agent_Name,'Area_Code':Area_Code,\n",
    "                          'Phone_Number':Phone_Number,'Price':Price})"
   ]
  },
  {
   "cell_type": "code",
   "execution_count": null,
   "id": "60eb5238",
   "metadata": {},
   "outputs": [],
   "source": [
    "Address = []\n",
    "Bedrooms = []\n",
    "Bathrooms = []\n",
    "Agent_Name = []\n",
    "Area_Code = []\n",
    "Phone_Number = []\n",
    "Price = []\n",
    "\n",
    "\n",
    "for i in range(1,51):\n",
    "\n",
    "    cookies = {\n",
    "        'visid_incap_2269415': '+NkNgRIfTwOrm/s4ITM2t9OTF2IAAAAAQUIPAAAAAAD6dXbRxs0rutK/gFLim+Sv',\n",
    "        '_ga_Y07J3B53QP': 'GS1.1.1645712348.1.1.1645712756.60',\n",
    "        '_ga': 'GA1.2.2060581675.1645712349',\n",
    "        '_gid': 'GA1.2.606170288.1645712349',\n",
    "        'reese84': '3:5M7QeuFfJglY+Y83Xd2dOg==:2dG6OeiQVqbmWKgUTHQXzzkM+K21pQ7io0wyCLKnsjd/Iqf/2WPVqyNC5SQ5C2MJb90UE5YRkfiIMcZfejwXCoamXnT4CTSQAOQrFLBZ+6Mwf3bXeGZB7DL4b7xpgrcAvy3mF1xqG4LOn0mLU3ISwwM/UebtoDEiB8kiG7McTOoe0devlFsI1y+TnJeGlaVQpz2JP+VaxojSHnxJSJbfpKpan//4/ZMXL2oczID7N54JuCsPe2CW2nTsCJO+60ry6Vay9KWmQPQtmI99GYHMrr9gtxI00Y9OzfqIUwyrCAh7S47anCxr0zuDWLzYEaWVQDOFgV08yGcmKNGEHMZcoig7E5bpoI3tMxFisZZsKctvZpGePFEd7rG0AlNAWUknzvEBbDMQ09ExC1hjG1ScXBbDJVigTme/v5Lk7G8saDs=:Z5E14XVJT/YsII9ibpnc1N+AJ5SmCUSnvgMD6KDpKsQ=',\n",
    "        '_4c_': '%7B%22_4c_s_%22%3A%22fVLBitswEP2VoHNsJFuypNzKlpZAD6VQegyKNXZEvJaRlXi3wf%2FekePd0C7UB3nmzbw34o1uZDpBT3as4kKyotJcSrklZ3gdye5GgrPpdyU7UtpaajAiE1bVGTeyyHTBRXYEYRpWG2gUkC15SVqi5EqVXGtdzVtSD6vGjdTeAmoxnTOeM5o1I1Li7yRfUgyH4O2ljof4OqS%2BCY6b0Z6xYOHqajhMzsZTEhBl9UBP4NpTRFhVPKFDSC15ITCZXG%2F99C9xRd%2BJsmSIHoOfRkjkLy5A4182WiLs0Qrya2Gk62IFQljaMBtdTDcNYLroQ16bFUMHH3C2wN9M315MuxiQUt%2B2YDd7dJ80phuTe9%2BDv7q%2Bhrv2k7%2F0MSSdfW9dkvgBo7PQR2c6H5788zMEV5tumfReST6mjSUvOo%2FlJIdL3uKR8CFYjL9%2BOvzcf8a0oBUVilVS5OsrwM2ReV0lAlpTzWmBzyJGHIUm0%2FTN9zHLZvnf3YWi1cduC%2BM5%2BiF7MwX6%2F%2FDVR%2F7Vvb1FVYAsAEQmS1FlvMToKKjFSBSV4sBKQ8lDknGuS8rEKsnUXXGe%2FwA%3D%22%7D',\n",
    "        'gig_bootstrap_3_mrQiIl6ov44s2X3j6NGWVZ9SDDtplqV7WgdcyEpGYnYxl7ygDWPQHqQqtpSiUfko': 'gigya-pr_ver4',\n",
    "        '_fbp': 'fb.1.1645712352800.1255830025',\n",
    "        'visid_incap_2271082': 'YFIM2vKtR9mFawrlAhKkyOqTF2IAAAAAQUIPAAAAAACLwkFtfYkaV3B43t2h4ODE',\n",
    "        'incap_ses_795_2269415': 'iSSUN5m6ghpgKG/E0GgICyCVF2IAAAAAn99xErBz8i/lmuYxWVeqnA==',\n",
    "        'nlbi_2269415': 'LJpaC/TkZCfgcG3ykG5lugAAAADNQDIunEh9NRul1z3467wu',\n",
    "        'nlbi_2269415_2147483392': '6GvyDP63VFwDB3nykG5lugAAAACGgIirO26125LiOrzVC++n',\n",
    "        'ASP.NET_SessionId': 'edmcozxrn1hzitmpcuwyzm4l',\n",
    "        'nlbi_2271082': 'Nc+9Cso6FE9EVUIXcbDG1QAAAADsCT5h5xJzFwtph3vc0Xna',\n",
    "        'incap_ses_795_2271082': '0PG7fZ6f12wIeW/E0GgICyqVF2IAAAAAKv9cwv9yorguK0V8S1UT6w==',\n",
    "        '_gali': 'ListViewPagination_Bottom',\n",
    "    }\n",
    "\n",
    "    headers = {\n",
    "        'User-Agent': 'Mozilla/5.0 (Windows NT 10.0; Win64; x64; rv:97.0) Gecko/20100101 Firefox/97.0',\n",
    "        'Accept': '*/*',\n",
    "        'Accept-Language': 'en-US,en;q=0.5',\n",
    "        'Accept-Encoding': 'gzip, deflate, br',\n",
    "        'Content-Type': 'application/x-www-form-urlencoded; charset=UTF-8',\n",
    "        'Origin': 'https://www.realtor.ca',\n",
    "        'Sec-Fetch-Dest': 'empty',\n",
    "        'Sec-Fetch-Mode': 'cors',\n",
    "        'Sec-Fetch-Site': 'same-site',\n",
    "        'Referer': 'https://www.realtor.ca/',\n",
    "        'Connection': 'keep-alive',\n",
    "        'TE': 'trailers',\n",
    "    }\n",
    "\n",
    "    data = {\n",
    "      'ZoomLevel': '9',\n",
    "      'LatitudeMax': '45.78820',\n",
    "      'LongitudeMax': '-74.15200',\n",
    "      'LatitudeMin': '44.70730',\n",
    "      'LongitudeMin': '-77.44790',\n",
    "      'Sort': '6-D',\n",
    "      'PropertyTypeGroupID': '1',\n",
    "      'PropertySearchTypeId': '1',\n",
    "      'TransactionTypeId': '2',\n",
    "      'Currency': 'CAD',\n",
    "      'RecordsPerPage': '12',\n",
    "      'ApplicationId': '1',\n",
    "      'CultureId': '1',\n",
    "      'Version': '7.0',\n",
    "      'CurrentPage': str(i),\n",
    "    }\n",
    "    \n",
    "    #response\n",
    "    response = requests.post('https://api2.realtor.ca/Listing.svc/PropertySearch_Post', headers=headers, cookies=cookies, data=data)\n",
    "\n",
    "    #json object\n",
    "    result_json = response.json()\n",
    "    \n",
    "    #result item\n",
    "    result_item = result_json['Results']\n",
    "    \n",
    "    #for loop\n",
    "    for results in result_item:\n",
    "        #address\n",
    "        try:\n",
    "            Address.append(results['Property']['Address']['AddressText'])\n",
    "        except:\n",
    "            Address.append('n/a')\n",
    "\n",
    "        #bedrooms\n",
    "        try:\n",
    "            Bedrooms.append(results['Building']['Bedrooms'])\n",
    "        except:\n",
    "            Bedrooms.append('n/a')\n",
    "\n",
    "        #Bathrooms\n",
    "        try:\n",
    "            Bathrooms.append(results['Building']['BathroomTotal'])\n",
    "        except:\n",
    "            Bathrooms.append('n/a')\n",
    "\n",
    "        #Agent Name\n",
    "        try:\n",
    "            Agent_Name.append(results['Individual'][0]['Name'])\n",
    "        except:\n",
    "            Agent_Name.append('n/a')\n",
    "\n",
    "        #Area code\n",
    "        try:\n",
    "            Area_Code.append(results['Individual'][0]['Phones'][0]['AreaCode'])\n",
    "        except:\n",
    "            Area_Code.append('n/a')\n",
    "\n",
    "        #phone number\n",
    "        try:\n",
    "            Phone_Number.append(results['Individual'][0]['Phones'][0]['PhoneNumber'])\n",
    "        except:\n",
    "            Phone_Number.append('n/a')\n",
    "\n",
    "        #price\n",
    "        try:\n",
    "            Price.append(results['Property']['Price'])\n",
    "        except:\n",
    "            Price.append('n/a')\n"
   ]
  },
  {
   "cell_type": "code",
   "execution_count": null,
   "id": "4269a779",
   "metadata": {},
   "outputs": [],
   "source": [
    "df_realtor"
   ]
  },
  {
   "cell_type": "markdown",
   "id": "47d9f100",
   "metadata": {},
   "source": [
    "Multiple Pages "
   ]
  },
  {
   "cell_type": "code",
   "execution_count": null,
   "id": "c55c10b8",
   "metadata": {},
   "outputs": [],
   "source": [
    "Address = []\n",
    "Bedrooms = []\n",
    "Bathrooms = []\n",
    "Agent_Name = []\n",
    "Area_Code = []\n",
    "Phone_Number = []\n",
    "Price = []\n",
    "\n",
    "for results in result_item:\n",
    "    #address\n",
    "    try:\n",
    "        Address.append(results['Property']['Address']['AddressText'])\n",
    "    except:\n",
    "        Address.append('n/a')\n",
    "        \n",
    "    #bedrooms\n",
    "    try:\n",
    "        Bedrooms.append(results['Building']['Bedrooms'])\n",
    "    except:\n",
    "        Bedrooms.append('n/a')\n",
    "        \n",
    "    #Bathrooms\n",
    "    try:\n",
    "        Bathrooms.append(results['Building']['BathroomTotal'])\n",
    "    except:\n",
    "        Bathrooms.append('n/a')\n",
    "        \n",
    "    #Agent Name\n",
    "    try:\n",
    "        Agent_Name.append(results['Individual'][0]['Name'])\n",
    "    except:\n",
    "        Agent_Name.append('n/a')\n",
    "        \n",
    "    #Area code\n",
    "    try:\n",
    "        Area_Code.append(results['Individual'][0]['Phones'][0]['AreaCode'])\n",
    "    except:\n",
    "        Area_Code.append('n/a')\n",
    "        \n",
    "    #phone number\n",
    "    try:\n",
    "        Phone_Number.append(results['Individual'][0]['Phones'][0]['PhoneNumber'])\n",
    "    except:\n",
    "        Phone_Number.append('n/a')\n",
    "        \n",
    "    #price\n",
    "    try:\n",
    "        Price.append(results['Property']['Price'])\n",
    "    except:\n",
    "        Price.append('n/a')"
   ]
  },
  {
   "cell_type": "code",
   "execution_count": null,
   "id": "05037fd2",
   "metadata": {},
   "outputs": [],
   "source": [
    "#pandas Data frame\n",
    "df_Realtor = pd.DataFrame({'Address':Address,'Bedrooms':Bedrooms,'Bathrooms':Bathrooms,'Agent_Name':Agent_Name,'Area_Code':Area_Code,\n",
    "                          'Phone_Number':Phone_Number,'Price':Price})"
   ]
  },
  {
   "cell_type": "code",
   "execution_count": null,
   "id": "f5ffd44f",
   "metadata": {},
   "outputs": [],
   "source": [
    "df_Realtor"
   ]
  },
  {
   "cell_type": "code",
   "execution_count": null,
   "id": "831a9cc6",
   "metadata": {},
   "outputs": [],
   "source": [
    "#import data to excel\n",
    "df_Realtor.to_excel('Realtor_Appartments_list.xlsx',index=False)"
   ]
  },
  {
   "cell_type": "code",
   "execution_count": null,
   "id": "c297c70b",
   "metadata": {},
   "outputs": [],
   "source": [
    "#import data to excel\n",
    "df_Realtor.to_excel('Realtor_Appartments_list.xlsx',index=False)"
   ]
  }
 ],
 "metadata": {
  "kernelspec": {
   "display_name": "Python 3 (ipykernel)",
   "language": "python",
   "name": "python3"
  },
  "language_info": {
   "codemirror_mode": {
    "name": "ipython",
    "version": 3
   },
   "file_extension": ".py",
   "mimetype": "text/x-python",
   "name": "python",
   "nbconvert_exporter": "python",
   "pygments_lexer": "ipython3",
   "version": "3.9.7"
  }
 },
 "nbformat": 4,
 "nbformat_minor": 5
}
