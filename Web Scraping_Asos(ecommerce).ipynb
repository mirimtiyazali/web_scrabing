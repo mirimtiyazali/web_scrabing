{
 "cells": [
  {
   "cell_type": "markdown",
   "id": "9a65122c",
   "metadata": {},
   "source": [
    "import libraries"
   ]
  },
  {
   "cell_type": "code",
   "execution_count": 1,
   "id": "0fbdfe52",
   "metadata": {},
   "outputs": [],
   "source": [
    "import pandas as pd\n",
    "from bs4 import BeautifulSoup\n",
    "import requests"
   ]
  },
  {
   "cell_type": "markdown",
   "id": "22509296",
   "metadata": {},
   "source": [
    "convert cURL command to python "
   ]
  },
  {
   "cell_type": "code",
   "execution_count": 2,
   "id": "567d7e3e",
   "metadata": {},
   "outputs": [],
   "source": [
    "\n",
    "\n",
    "cookies = {\n",
    "    'geocountry': 'IN',\n",
    "    '_abck': 'E0730506D92F55451FFFAD34199E1031~0~YAAQxuvfrSwja1F/AQAAST6RVQfKoJn76PZhSQqxaEkODQ/X0Z0FZRVXrtUuXlaFlGcfuYrl4KpvdvXd3SuqhH5dJUlVDT/6UGzAy+XaE0xts0ccZWuSQ0rjQAufOLz0ydtbZI8kkJyUVe+1n9Rjxq7kxymXMk0WL3X29CKGeJ7v8xvOxXMfPcemWSQDNNtqM2kVPSYRQPr2xYB/0fIrQBm1dUi9RDq7NlNcqDptei0kyp8P+JpgAcYFB2DoHNiCMv3GfNvxQCB2f3HsMHqseaZalYpvaZZ/ag8tNAgZuS0lxdICQEFMtLmGUEay0VDGq9yipNf7hSPH9YD7fJ29+Xpwt35SBWLeeoavmMghlbgTnm+HrU+UTyXG3NnRITvP7avXgYvMfvMHe4yMYzglZiLriGznhyQ=~-1~||-1||~-1',\n",
    "    'bm_sz': 'F71315B6E623BFAF0294D15243CCDFF9~YAAQbq0cuOY+nUB/AQAAuI+LVQ98qjVu/1SVtCXFcp0GU6YehOTofw/bw63NhKnUUEzox1Bdymlu4RIv691Rh7kz4/oEGKK/mObMnZm5so135Kkq2njxH+V86Jy4ESb4azKiYrXqszYLTGdVuLusKrEVSJrC6vMpavd18MbC9XgP8fXPG1JYeV3yJOBQJU166dTC1Mo5iFbNZJmH48LLmz5B2lVePofNVSRDfCHJ0IscV3RjIPJJ+f78Avhq79xisMzDfdRCeEHxJJYxVXcwpM4qB8bAlD3tb3pijlIOXT4k~3354689~4273729',\n",
    "    'AMCV_C0137F6A52DEAFCC0A490D4C%40AdobeOrg': '-1303530583%7CMCMID%7C42324205946378161651580951218257353518%7CMCAID%7CNONE%7CMCOPTOUT-1646414890s%7CNONE%7CMCAAMLH-1647012578%7C12%7CMCAAMB-1647012578%7Cj8Odv6LonN4r3an7LhD3WZrU1bUpAkFkkiY1ncBR96t2PTI%7CMCSYNCSOP%7C411-19063%7CvVersion%7C3.3.0%7CMCCIDH%7C0',\n",
    "    's_pers': '%20s_vnum%3D1648751400287%2526vn%253D1%7C1648751400287%3B%20gpv_p6%3D%2520%7C1646409846688%3B%20eVar225%3D8%7C1646409854497%3B%20visitCount%3D1%7C1646409854498%3B%20s_invisit%3Dtrue%7C1646409855664%3B%20s_nr%3D1646408055664-New%7C1677944055664%3B%20gpv_e47%3Dno%2520value%7C1646409855665%3B%20gpv_p10%3Ddesktop%2520row%257Ccategory%2520page%257C28235%7C1646409855666%3B',\n",
    "    'siteChromeVersion': 'au=11&com=11&de=11&dk=11&es=11&fr=11&it=11&nl=11&pl=11&roe=11&row=11&ru=11&se=11&us=11',\n",
    "    'keyStoreDataversion': '8o580s6-31',\n",
    "    'browseCountry': 'IN',\n",
    "    'asos': 'PreferredSite=&currencyid=1&currencylabel=GBP&customerguid=4b3125517006482e8408622c7ba43f5e&topcatid=1001',\n",
    "    'browseCurrency': 'GBP',\n",
    "    'browseLanguage': 'en-GB',\n",
    "    'browseSizeSchema': 'UK',\n",
    "    'storeCode': 'ROW',\n",
    "    'currency': '1',\n",
    "    'featuresId': '505e167d-6992-4165-ab46-5dec3b9270bd',\n",
    "    'asos-b-sdv629': '8o580s6-31',\n",
    "    'ak_bmsc': 'C0ED4AAA7405FEDA5A145FDCDC09D795~000000000000000000000000000000~YAAQbq0cuAI/nUB/AQAA/JqLVQ+JvUF8/mK4bQoKuRQyf4RbXdPX/g+DDvBSVsZ0XfngVPZg1LmafG02r453U/bdvrWWqH0V1K/Qh4tQzYrw8JOliX4t4D2dwdsE9ERIzHKeDJxLWJfoo0Pg4vHvVPDVkM9pIGxkuV9vM8zHG3DyF4yJDps8cz+2liGRdxiIg951fZ8YTEV1jZUeSteEXkv0AFTg/jAXe4wjMqnlIRtZ2MuuZc4znrRW3DgFQLpv1BkRhXt4EcyBdS2wt7pGPWMnIAJUvF227JYhjUmeVBO/4wP0xHrY6b4DgyhqUXQWxWB0+r7QUS7tli3rBmLCj3gFJFzSIPQLNQStapMIVqHyHEasEfpWh1mP4R3dhSL4Dt4ca6YNXBOGMZwT2PbbmvWofVDwOGzN3gXYiqMuBJ7GCfjdSERkX9n1uD1mK0a7qM/2O+K9F6NXm5NDPemPSasiEJLuF/rBfwoxmQ==',\n",
    "    's_ecid': 'MCMID%7C42324205946378161651580951218257353518',\n",
    "    'RT': 'z=1&dm=asos.com&si=1f9eef32-e158-4bbc-bed4-7b635c9a97bc&ss=l0ckmm1p&sl=a&tt=qo3&bcn=%2F%2F684d0d44.akstat.io%2F&ld=7y1k&nu=2m4fbdp2&cl=9lww',\n",
    "    'optimizelyEndUserId': 'oeu1646407689762r0.28085553057332246',\n",
    "    'AMCVS_C0137F6A52DEAFCC0A490D4C%40AdobeOrg': '1',\n",
    "    'OptanonConsent': 'isIABGlobal=false&datestamp=Fri+Mar+04+2022+21%3A04%3A16+GMT%2B0530+(India+Standard+Time)&version=6.31.0&hosts=&landingPath=NotLandingPage&groups=C0001%3A1%2CC0003%3A1%2CC0004%3A1&AwaitingReconsent=false',\n",
    "    'bt_recUser': '0',\n",
    "    'asos-perx': '4b3125517006482e8408622c7ba43f5e||18b127bf18df4ae3bd6d36e3c4da323e',\n",
    "    '_cs_c': '0',\n",
    "    '_cs_id': '515bb192-3da4-a569-c6ea-39e4fa22928c.1646407691.1.1646408055.1646407691.1628755191.1680571691576',\n",
    "    '_cs_s': '7.0.0.1646409855911',\n",
    "    '_s_fpv': 'true',\n",
    "    's_cc': 'true',\n",
    "    'bt_stdstatus': 'NOTSTUDENT',\n",
    "    '_ga_54TNE49WS4': 'GS1.1.1646407692.1.1.1646408110.60',\n",
    "    '_ga': 'GA1.2.729335720.1646407693',\n",
    "    '_gcl_au': '1.1.857638450.1646407693',\n",
    "    '_ga_1JR0QCFRSY': 'GS1.1.1646407692.1.1.1646408110.0',\n",
    "    '_gid': 'GA1.2.509335761.1646407694',\n",
    "    's_sq': '%5B%5BB%5D%5D',\n",
    "    'bm_mi': '4A509AAC1CCA0040EDE9024E6F48E460~//6SyPCGWEi7lIIhPDP6GsoXZzjrJVHNyDW3E5WPz4wDUBtQyg3vvCvM+y1fyi5kJQJtF5YEyr9BJmzEk4mPiUMjfZgH1Uj2/X9pAdXtkJtZvvng7Pr1B4zOHhkcT76RHHOZ1LfObrOHjdkQw8s6oSE3RYUOBM7cZrbYOthZVEENg1v2sOlma7r8NRhevQ26VTKctOBJzD5MYCs8SQtbQhe0V8ohKN40YSQ1LMP3S4h3ikjtEVOSmW3FN5Wocu5JRO5L+BksG+8N2DJ68uGxmM++d9l9BJcALNeSOEt0A2ew3vM+pwmDhv5uQ70u6RrB',\n",
    "    'floor': '1001',\n",
    "    'plp_columsCount': 'twoColumns',\n",
    "    '__gads': 'ID=8e9d76082726f4df-22daf4c0d9d00036:T=1646407778:S=ALNI_MaEkiKlWtCsckcWu9z46VsMVgi7eg',\n",
    "}\n",
    "\n",
    "headers = {\n",
    "    'User-Agent': 'Mozilla/5.0 (Windows NT 10.0; Win64; x64; rv:97.0) Gecko/20100101 Firefox/97.0',\n",
    "    'Accept': 'application/json, text/plain, */*',\n",
    "    'Accept-Language': 'en-US,en;q=0.5',\n",
    "    'Accept-Encoding': 'gzip, deflate, br',\n",
    "    'asos-cid': '9f9a8c9b-a1e3-405c-be47-90d493c7d873',\n",
    "    'asos-c-plat': 'web',\n",
    "    'asos-c-name': 'asos-web-product-listing-page',\n",
    "    'asos-c-ver': '1.2.0-c98e5f56e43b-4883',\n",
    "    'Connection': 'keep-alive',\n",
    "    'Referer': 'https://www.asos.com/men/sale/ctas/sale-edit-8/cat/?cid=28235&nlid=mw%7Csale%7Cshop%20sale%20by%20product%7Cbiggest%20deals&page=2',\n",
    "    'Sec-Fetch-Dest': 'empty',\n",
    "    'Sec-Fetch-Mode': 'cors',\n",
    "    'Sec-Fetch-Site': 'same-origin',\n",
    "    'TE': 'trailers',\n",
    "}\n",
    "\n",
    "params = (\n",
    "    ('channel', 'mobile-web'),\n",
    "    ('country', 'IN'),\n",
    "    ('currency', 'GBP'),\n",
    "    ('keyStoreDataversion', '8o580s6-31'),\n",
    "    ('lang', 'en-GB'),\n",
    "    ('limit', '72'),\n",
    "    ('offset', '0'),\n",
    "    ('rowlength', '2'),\n",
    "    ('store', 'ROW'),\n",
    ")\n",
    "\n",
    "response = requests.get('https://www.asos.com/api/product/search/v2/categories/28235', headers=headers, params=params, cookies=cookies)\n",
    "\n",
    "# Note: original query string below. It seems impossible to parse and\n",
    "# reproduce query strings 100% accurately so the one below is given\n",
    "# in case the reproduced version is not \"correct\".\n",
    "#response = requests.get('https://www.asos.com/api/product/search/v2/categories/28235?channel=mobile-web&country=IN&currency=GBP&keyStoreDataversion=8o580s6-31&lang=en-GB&limit=72&offset=72&rowlength=2&store=ROW', headers=headers, cookies=cookies)"
   ]
  },
  {
   "cell_type": "markdown",
   "id": "b0a1a458",
   "metadata": {},
   "source": [
    "check website status"
   ]
  },
  {
   "cell_type": "code",
   "execution_count": 3,
   "id": "d9465f2d",
   "metadata": {},
   "outputs": [
    {
     "data": {
      "text/plain": [
       "<Response [200]>"
      ]
     },
     "execution_count": 3,
     "metadata": {},
     "output_type": "execute_result"
    }
   ],
   "source": [
    "response"
   ]
  },
  {
   "cell_type": "markdown",
   "id": "460f1ae2",
   "metadata": {},
   "source": [
    "create json object"
   ]
  },
  {
   "cell_type": "code",
   "execution_count": 4,
   "id": "a4df648e",
   "metadata": {},
   "outputs": [],
   "source": [
    "items=response.json()"
   ]
  },
  {
   "cell_type": "markdown",
   "id": "ce50178c",
   "metadata": {},
   "source": [
    "web items keys"
   ]
  },
  {
   "cell_type": "code",
   "execution_count": 5,
   "id": "505ba1e2",
   "metadata": {},
   "outputs": [
    {
     "data": {
      "text/plain": [
       "dict_keys(['searchTerm', 'categoryName', 'itemCount', 'redirectUrl', 'products', 'facets', 'diagnostics', 'searchPassMeta', 'queryId', 'discoverSearchProductTypes', 'campaigns'])"
      ]
     },
     "execution_count": 5,
     "metadata": {},
     "output_type": "execute_result"
    }
   ],
   "source": [
    "items.keys()"
   ]
  },
  {
   "cell_type": "markdown",
   "id": "8d7bee80",
   "metadata": {},
   "source": [
    "find your data\n",
    "\n",
    "1)product name 2)brand name 3)price 4)final price\n"
   ]
  },
  {
   "cell_type": "code",
   "execution_count": 6,
   "id": "a73b251b",
   "metadata": {},
   "outputs": [],
   "source": [
    "result = items['products']"
   ]
  },
  {
   "cell_type": "code",
   "execution_count": 7,
   "id": "864ab0eb",
   "metadata": {},
   "outputs": [
    {
     "data": {
      "text/plain": [
       "72"
      ]
     },
     "execution_count": 7,
     "metadata": {},
     "output_type": "execute_result"
    }
   ],
   "source": [
    "len(result)"
   ]
  },
  {
   "cell_type": "code",
   "execution_count": 8,
   "id": "80dccd28",
   "metadata": {},
   "outputs": [
    {
     "data": {
      "text/plain": [
       "'Soul Star muscle fit ribbed roll neck jumper in black'"
      ]
     },
     "execution_count": 8,
     "metadata": {},
     "output_type": "execute_result"
    }
   ],
   "source": [
    "#product name\n",
    "result[0]['name']\n"
   ]
  },
  {
   "cell_type": "code",
   "execution_count": 9,
   "id": "dde8b764",
   "metadata": {},
   "outputs": [
    {
     "data": {
      "text/plain": [
       "'Soul Star'"
      ]
     },
     "execution_count": 9,
     "metadata": {},
     "output_type": "execute_result"
    }
   ],
   "source": [
    "#brand name\n",
    "result[0]['brandName']"
   ]
  },
  {
   "cell_type": "code",
   "execution_count": 10,
   "id": "4ab06e91",
   "metadata": {},
   "outputs": [
    {
     "data": {
      "text/plain": [
       "'£16.00'"
      ]
     },
     "execution_count": 10,
     "metadata": {},
     "output_type": "execute_result"
    }
   ],
   "source": [
    "#price\n",
    "result[0]['price']['previous']['text']"
   ]
  },
  {
   "cell_type": "code",
   "execution_count": 11,
   "id": "31e674c5",
   "metadata": {},
   "outputs": [
    {
     "data": {
      "text/plain": [
       "'£11.20'"
      ]
     },
     "execution_count": 11,
     "metadata": {},
     "output_type": "execute_result"
    }
   ],
   "source": [
    "#final price\n",
    "result[0]['price']['current']['text']"
   ]
  },
  {
   "cell_type": "markdown",
   "id": "ea4a7d0c",
   "metadata": {},
   "source": [
    "put everything together using for loop and append data inside a list"
   ]
  },
  {
   "cell_type": "code",
   "execution_count": 12,
   "id": "8c5267c2",
   "metadata": {},
   "outputs": [],
   "source": [
    "product_name = []\n",
    "brand_name = []\n",
    "previous_price = []\n",
    "current_price = []\n",
    "\n",
    "for item in result:\n",
    "    #name\n",
    "    try:\n",
    "        product_name.append(item['name'])\n",
    "    except:\n",
    "        product_name.append('n/a')\n",
    "        \n",
    "    #brand\n",
    "    try:\n",
    "        brand_name.append(item['brandName'])\n",
    "    except:\n",
    "        brand_name.append('n/a')\n",
    "        \n",
    "    #previous price\n",
    "    try:\n",
    "        previous_price.append(item['price']['previous']['text'])\n",
    "    except:\n",
    "        previous_price.append('n/a')\n",
    "        \n",
    "    #current_price\n",
    "    try:\n",
    "        current_price.append(item['price']['current']['text'])\n",
    "    except:\n",
    "        current_price.append('n/a')\n",
    "    "
   ]
  },
  {
   "cell_type": "code",
   "execution_count": 13,
   "id": "b8deb54c",
   "metadata": {},
   "outputs": [],
   "source": [
    "#pandas dataframe\n",
    "Asos_data=pd.DataFrame({'Name':product_name,'Brand':brand_name,\n",
    "                        'Previous_price':previous_price,'Current_price':current_price})"
   ]
  },
  {
   "cell_type": "code",
   "execution_count": 14,
   "id": "eb0c8065",
   "metadata": {},
   "outputs": [
    {
     "data": {
      "text/html": [
       "<div>\n",
       "<style scoped>\n",
       "    .dataframe tbody tr th:only-of-type {\n",
       "        vertical-align: middle;\n",
       "    }\n",
       "\n",
       "    .dataframe tbody tr th {\n",
       "        vertical-align: top;\n",
       "    }\n",
       "\n",
       "    .dataframe thead th {\n",
       "        text-align: right;\n",
       "    }\n",
       "</style>\n",
       "<table border=\"1\" class=\"dataframe\">\n",
       "  <thead>\n",
       "    <tr style=\"text-align: right;\">\n",
       "      <th></th>\n",
       "      <th>Name</th>\n",
       "      <th>Brand</th>\n",
       "      <th>Previous_price</th>\n",
       "      <th>Current_price</th>\n",
       "    </tr>\n",
       "  </thead>\n",
       "  <tbody>\n",
       "    <tr>\n",
       "      <th>0</th>\n",
       "      <td>Soul Star muscle fit ribbed roll neck jumper i...</td>\n",
       "      <td>Soul Star</td>\n",
       "      <td>£16.00</td>\n",
       "      <td>£11.20</td>\n",
       "    </tr>\n",
       "    <tr>\n",
       "      <th>1</th>\n",
       "      <td>Puma skate towelling t-shirt in yellow exclusi...</td>\n",
       "      <td>Puma</td>\n",
       "      <td>£37.00</td>\n",
       "      <td>£14.80</td>\n",
       "    </tr>\n",
       "    <tr>\n",
       "      <th>2</th>\n",
       "      <td>The North Face Peaks cropped t-shirt in black/...</td>\n",
       "      <td>The North Face</td>\n",
       "      <td>£25.00</td>\n",
       "      <td>£10.00</td>\n",
       "    </tr>\n",
       "    <tr>\n",
       "      <th>3</th>\n",
       "      <td>Il Sarto logo print t-shirt in blush</td>\n",
       "      <td>Il Sarto</td>\n",
       "      <td>£19.00</td>\n",
       "      <td>£8.55</td>\n",
       "    </tr>\n",
       "    <tr>\n",
       "      <th>4</th>\n",
       "      <td>Jack &amp; Jones Plus vest in navy &amp; grey</td>\n",
       "      <td>Jack &amp; Jones</td>\n",
       "      <td>£12.00</td>\n",
       "      <td>£4.80</td>\n",
       "    </tr>\n",
       "    <tr>\n",
       "      <th>...</th>\n",
       "      <td>...</td>\n",
       "      <td>...</td>\n",
       "      <td>...</td>\n",
       "      <td>...</td>\n",
       "    </tr>\n",
       "    <tr>\n",
       "      <th>67</th>\n",
       "      <td>French Connection ribbed roll neck jumper in d...</td>\n",
       "      <td>French Connection</td>\n",
       "      <td>£25.00</td>\n",
       "      <td>£18.75</td>\n",
       "    </tr>\n",
       "    <tr>\n",
       "      <th>68</th>\n",
       "      <td>Greentreat lounge short in light grey</td>\n",
       "      <td>Greentreat</td>\n",
       "      <td>£12.00</td>\n",
       "      <td>£6.00</td>\n",
       "    </tr>\n",
       "    <tr>\n",
       "      <th>69</th>\n",
       "      <td>River Island boxy fleece lined denim jacket in...</td>\n",
       "      <td>River Island</td>\n",
       "      <td>£65.00</td>\n",
       "      <td>£19.50</td>\n",
       "    </tr>\n",
       "    <tr>\n",
       "      <th>70</th>\n",
       "      <td>VAI21 ribbed skinny joggers in pruce</td>\n",
       "      <td>VAI21</td>\n",
       "      <td>£18.00</td>\n",
       "      <td>£13.50</td>\n",
       "    </tr>\n",
       "    <tr>\n",
       "      <th>71</th>\n",
       "      <td>Sixth June unisex relaxed t-shirt with tonal l...</td>\n",
       "      <td>Sixth June</td>\n",
       "      <td>£28.00</td>\n",
       "      <td>£11.20</td>\n",
       "    </tr>\n",
       "  </tbody>\n",
       "</table>\n",
       "<p>72 rows × 4 columns</p>\n",
       "</div>"
      ],
      "text/plain": [
       "                                                 Name              Brand  \\\n",
       "0   Soul Star muscle fit ribbed roll neck jumper i...          Soul Star   \n",
       "1   Puma skate towelling t-shirt in yellow exclusi...               Puma   \n",
       "2   The North Face Peaks cropped t-shirt in black/...     The North Face   \n",
       "3                Il Sarto logo print t-shirt in blush           Il Sarto   \n",
       "4               Jack & Jones Plus vest in navy & grey       Jack & Jones   \n",
       "..                                                ...                ...   \n",
       "67  French Connection ribbed roll neck jumper in d...  French Connection   \n",
       "68              Greentreat lounge short in light grey         Greentreat   \n",
       "69  River Island boxy fleece lined denim jacket in...       River Island   \n",
       "70               VAI21 ribbed skinny joggers in pruce              VAI21   \n",
       "71  Sixth June unisex relaxed t-shirt with tonal l...         Sixth June   \n",
       "\n",
       "   Previous_price Current_price  \n",
       "0          £16.00        £11.20  \n",
       "1          £37.00        £14.80  \n",
       "2          £25.00        £10.00  \n",
       "3          £19.00         £8.55  \n",
       "4          £12.00         £4.80  \n",
       "..            ...           ...  \n",
       "67         £25.00        £18.75  \n",
       "68         £12.00         £6.00  \n",
       "69         £65.00        £19.50  \n",
       "70         £18.00        £13.50  \n",
       "71         £28.00        £11.20  \n",
       "\n",
       "[72 rows x 4 columns]"
      ]
     },
     "execution_count": 14,
     "metadata": {},
     "output_type": "execute_result"
    }
   ],
   "source": [
    "Asos_data"
   ]
  },
  {
   "cell_type": "markdown",
   "id": "0cc2aed9",
   "metadata": {},
   "source": [
    "Extracting Data from Multiple pages"
   ]
  },
  {
   "cell_type": "code",
   "execution_count": 15,
   "id": "0f182f40",
   "metadata": {},
   "outputs": [],
   "source": [
    "product_name = []\n",
    "brand_name = []\n",
    "previous_price = []\n",
    "current_price = []\n",
    "\n",
    "for i in range(0,1440,72):\n",
    "\n",
    "    cookies = {\n",
    "        'geocountry': 'IN',\n",
    "        '_abck': 'E0730506D92F55451FFFAD34199E1031~0~YAAQxuvfrSwja1F/AQAAST6RVQfKoJn76PZhSQqxaEkODQ/X0Z0FZRVXrtUuXlaFlGcfuYrl4KpvdvXd3SuqhH5dJUlVDT/6UGzAy+XaE0xts0ccZWuSQ0rjQAufOLz0ydtbZI8kkJyUVe+1n9Rjxq7kxymXMk0WL3X29CKGeJ7v8xvOxXMfPcemWSQDNNtqM2kVPSYRQPr2xYB/0fIrQBm1dUi9RDq7NlNcqDptei0kyp8P+JpgAcYFB2DoHNiCMv3GfNvxQCB2f3HsMHqseaZalYpvaZZ/ag8tNAgZuS0lxdICQEFMtLmGUEay0VDGq9yipNf7hSPH9YD7fJ29+Xpwt35SBWLeeoavmMghlbgTnm+HrU+UTyXG3NnRITvP7avXgYvMfvMHe4yMYzglZiLriGznhyQ=~-1~||-1||~-1',\n",
    "        'bm_sz': 'F71315B6E623BFAF0294D15243CCDFF9~YAAQbq0cuOY+nUB/AQAAuI+LVQ98qjVu/1SVtCXFcp0GU6YehOTofw/bw63NhKnUUEzox1Bdymlu4RIv691Rh7kz4/oEGKK/mObMnZm5so135Kkq2njxH+V86Jy4ESb4azKiYrXqszYLTGdVuLusKrEVSJrC6vMpavd18MbC9XgP8fXPG1JYeV3yJOBQJU166dTC1Mo5iFbNZJmH48LLmz5B2lVePofNVSRDfCHJ0IscV3RjIPJJ+f78Avhq79xisMzDfdRCeEHxJJYxVXcwpM4qB8bAlD3tb3pijlIOXT4k~3354689~4273729',\n",
    "        'AMCV_C0137F6A52DEAFCC0A490D4C%40AdobeOrg': '-1303530583%7CMCMID%7C42324205946378161651580951218257353518%7CMCAID%7CNONE%7CMCOPTOUT-1646414890s%7CNONE%7CMCAAMLH-1647012578%7C12%7CMCAAMB-1647012578%7Cj8Odv6LonN4r3an7LhD3WZrU1bUpAkFkkiY1ncBR96t2PTI%7CMCSYNCSOP%7C411-19063%7CvVersion%7C3.3.0%7CMCCIDH%7C0',\n",
    "        's_pers': '%20s_vnum%3D1648751400287%2526vn%253D1%7C1648751400287%3B%20gpv_p6%3D%2520%7C1646409846688%3B%20eVar225%3D8%7C1646409854497%3B%20visitCount%3D1%7C1646409854498%3B%20s_invisit%3Dtrue%7C1646409855664%3B%20s_nr%3D1646408055664-New%7C1677944055664%3B%20gpv_e47%3Dno%2520value%7C1646409855665%3B%20gpv_p10%3Ddesktop%2520row%257Ccategory%2520page%257C28235%7C1646409855666%3B',\n",
    "        'siteChromeVersion': 'au=11&com=11&de=11&dk=11&es=11&fr=11&it=11&nl=11&pl=11&roe=11&row=11&ru=11&se=11&us=11',\n",
    "        'keyStoreDataversion': '8o580s6-31',\n",
    "        'browseCountry': 'IN',\n",
    "        'asos': 'PreferredSite=&currencyid=1&currencylabel=GBP&customerguid=4b3125517006482e8408622c7ba43f5e&topcatid=1001',\n",
    "        'browseCurrency': 'GBP',\n",
    "        'browseLanguage': 'en-GB',\n",
    "        'browseSizeSchema': 'UK',\n",
    "        'storeCode': 'ROW',\n",
    "        'currency': '1',\n",
    "        'featuresId': '505e167d-6992-4165-ab46-5dec3b9270bd',\n",
    "        'asos-b-sdv629': '8o580s6-31',\n",
    "        'ak_bmsc': 'C0ED4AAA7405FEDA5A145FDCDC09D795~000000000000000000000000000000~YAAQbq0cuAI/nUB/AQAA/JqLVQ+JvUF8/mK4bQoKuRQyf4RbXdPX/g+DDvBSVsZ0XfngVPZg1LmafG02r453U/bdvrWWqH0V1K/Qh4tQzYrw8JOliX4t4D2dwdsE9ERIzHKeDJxLWJfoo0Pg4vHvVPDVkM9pIGxkuV9vM8zHG3DyF4yJDps8cz+2liGRdxiIg951fZ8YTEV1jZUeSteEXkv0AFTg/jAXe4wjMqnlIRtZ2MuuZc4znrRW3DgFQLpv1BkRhXt4EcyBdS2wt7pGPWMnIAJUvF227JYhjUmeVBO/4wP0xHrY6b4DgyhqUXQWxWB0+r7QUS7tli3rBmLCj3gFJFzSIPQLNQStapMIVqHyHEasEfpWh1mP4R3dhSL4Dt4ca6YNXBOGMZwT2PbbmvWofVDwOGzN3gXYiqMuBJ7GCfjdSERkX9n1uD1mK0a7qM/2O+K9F6NXm5NDPemPSasiEJLuF/rBfwoxmQ==',\n",
    "        's_ecid': 'MCMID%7C42324205946378161651580951218257353518',\n",
    "        'RT': 'z=1&dm=asos.com&si=1f9eef32-e158-4bbc-bed4-7b635c9a97bc&ss=l0ckmm1p&sl=a&tt=qo3&bcn=%2F%2F684d0d44.akstat.io%2F&ld=7y1k&nu=2m4fbdp2&cl=9lww',\n",
    "        'optimizelyEndUserId': 'oeu1646407689762r0.28085553057332246',\n",
    "        'AMCVS_C0137F6A52DEAFCC0A490D4C%40AdobeOrg': '1',\n",
    "        'OptanonConsent': 'isIABGlobal=false&datestamp=Fri+Mar+04+2022+21%3A04%3A16+GMT%2B0530+(India+Standard+Time)&version=6.31.0&hosts=&landingPath=NotLandingPage&groups=C0001%3A1%2CC0003%3A1%2CC0004%3A1&AwaitingReconsent=false',\n",
    "        'bt_recUser': '0',\n",
    "        'asos-perx': '4b3125517006482e8408622c7ba43f5e||18b127bf18df4ae3bd6d36e3c4da323e',\n",
    "        '_cs_c': '0',\n",
    "        '_cs_id': '515bb192-3da4-a569-c6ea-39e4fa22928c.1646407691.1.1646408055.1646407691.1628755191.1680571691576',\n",
    "        '_cs_s': '7.0.0.1646409855911',\n",
    "        '_s_fpv': 'true',\n",
    "        's_cc': 'true',\n",
    "        'bt_stdstatus': 'NOTSTUDENT',\n",
    "        '_ga_54TNE49WS4': 'GS1.1.1646407692.1.1.1646408110.60',\n",
    "        '_ga': 'GA1.2.729335720.1646407693',\n",
    "        '_gcl_au': '1.1.857638450.1646407693',\n",
    "        '_ga_1JR0QCFRSY': 'GS1.1.1646407692.1.1.1646408110.0',\n",
    "        '_gid': 'GA1.2.509335761.1646407694',\n",
    "        's_sq': '%5B%5BB%5D%5D',\n",
    "        'bm_mi': '4A509AAC1CCA0040EDE9024E6F48E460~//6SyPCGWEi7lIIhPDP6GsoXZzjrJVHNyDW3E5WPz4wDUBtQyg3vvCvM+y1fyi5kJQJtF5YEyr9BJmzEk4mPiUMjfZgH1Uj2/X9pAdXtkJtZvvng7Pr1B4zOHhkcT76RHHOZ1LfObrOHjdkQw8s6oSE3RYUOBM7cZrbYOthZVEENg1v2sOlma7r8NRhevQ26VTKctOBJzD5MYCs8SQtbQhe0V8ohKN40YSQ1LMP3S4h3ikjtEVOSmW3FN5Wocu5JRO5L+BksG+8N2DJ68uGxmM++d9l9BJcALNeSOEt0A2ew3vM+pwmDhv5uQ70u6RrB',\n",
    "        'floor': '1001',\n",
    "        'plp_columsCount': 'twoColumns',\n",
    "        '__gads': 'ID=8e9d76082726f4df-22daf4c0d9d00036:T=1646407778:S=ALNI_MaEkiKlWtCsckcWu9z46VsMVgi7eg',\n",
    "    }\n",
    "\n",
    "    headers = {\n",
    "        'User-Agent': 'Mozilla/5.0 (Windows NT 10.0; Win64; x64; rv:97.0) Gecko/20100101 Firefox/97.0',\n",
    "        'Accept': 'application/json, text/plain, */*',\n",
    "        'Accept-Language': 'en-US,en;q=0.5',\n",
    "        'Accept-Encoding': 'gzip, deflate, br',\n",
    "        'asos-cid': '9f9a8c9b-a1e3-405c-be47-90d493c7d873',\n",
    "        'asos-c-plat': 'web',\n",
    "        'asos-c-name': 'asos-web-product-listing-page',\n",
    "        'asos-c-ver': '1.2.0-c98e5f56e43b-4883',\n",
    "        'Connection': 'keep-alive',\n",
    "        'Referer': 'https://www.asos.com/men/sale/ctas/sale-edit-8/cat/?cid=28235&nlid=mw%7Csale%7Cshop%20sale%20by%20product%7Cbiggest%20deals&page=2',\n",
    "        'Sec-Fetch-Dest': 'empty',\n",
    "        'Sec-Fetch-Mode': 'cors',\n",
    "        'Sec-Fetch-Site': 'same-origin',\n",
    "        'TE': 'trailers',\n",
    "    }\n",
    "\n",
    "    params = (\n",
    "        ('channel', 'mobile-web'),\n",
    "        ('country', 'IN'),\n",
    "        ('currency', 'GBP'),\n",
    "        ('keyStoreDataversion', '8o580s6-31'),\n",
    "        ('lang', 'en-GB'),\n",
    "        ('limit', '72'),\n",
    "        ('offset', str(i)),                                   #changing offset count 0 - str(i)\n",
    "        ('rowlength', '2'),\n",
    "        ('store', 'ROW'),\n",
    "    )\n",
    "\n",
    "    response = requests.get('https://www.asos.com/api/product/search/v2/categories/28235', headers=headers, params=params, cookies=cookies)\n",
    "    \n",
    "    #json object\n",
    "    items=response.json()\n",
    "    \n",
    "    #result items\n",
    "    result = items['products']\n",
    "    \n",
    "    for item in result:\n",
    "        #name\n",
    "        try:\n",
    "            product_name.append(item['name'])\n",
    "        except:\n",
    "            product_name.append('n/a')\n",
    "\n",
    "        #brand\n",
    "        try:\n",
    "            brand_name.append(item['brandName'])\n",
    "        except:\n",
    "            brand_name.append('n/a')\n",
    "\n",
    "        #previous price\n",
    "        try:\n",
    "            previous_price.append(item['price']['previous']['text'])\n",
    "        except:\n",
    "            previous_price.append('n/a')\n",
    "\n",
    "        #current_price\n",
    "        try:\n",
    "            current_price.append(item['price']['current']['text'])\n",
    "        except:\n",
    "            current_price.append('n/a')\n",
    "\n",
    "\n",
    "    \n",
    "\n"
   ]
  },
  {
   "cell_type": "code",
   "execution_count": 16,
   "id": "763acab1",
   "metadata": {},
   "outputs": [],
   "source": [
    "#pandas dataframe\n",
    "Asos_items=pd.DataFrame({'Name':product_name,'Brand':brand_name,\n",
    "                        'Previous_price':previous_price,'Current_price':current_price})"
   ]
  },
  {
   "cell_type": "code",
   "execution_count": 17,
   "id": "dc70874b",
   "metadata": {},
   "outputs": [
    {
     "data": {
      "text/html": [
       "<div>\n",
       "<style scoped>\n",
       "    .dataframe tbody tr th:only-of-type {\n",
       "        vertical-align: middle;\n",
       "    }\n",
       "\n",
       "    .dataframe tbody tr th {\n",
       "        vertical-align: top;\n",
       "    }\n",
       "\n",
       "    .dataframe thead th {\n",
       "        text-align: right;\n",
       "    }\n",
       "</style>\n",
       "<table border=\"1\" class=\"dataframe\">\n",
       "  <thead>\n",
       "    <tr style=\"text-align: right;\">\n",
       "      <th></th>\n",
       "      <th>Name</th>\n",
       "      <th>Brand</th>\n",
       "      <th>Previous_price</th>\n",
       "      <th>Current_price</th>\n",
       "    </tr>\n",
       "  </thead>\n",
       "  <tbody>\n",
       "    <tr>\n",
       "      <th>0</th>\n",
       "      <td>Soul Star muscle fit ribbed roll neck jumper i...</td>\n",
       "      <td>Soul Star</td>\n",
       "      <td>£16.00</td>\n",
       "      <td>£11.20</td>\n",
       "    </tr>\n",
       "    <tr>\n",
       "      <th>1</th>\n",
       "      <td>Puma skate towelling t-shirt in yellow exclusi...</td>\n",
       "      <td>Puma</td>\n",
       "      <td>£37.00</td>\n",
       "      <td>£14.80</td>\n",
       "    </tr>\n",
       "    <tr>\n",
       "      <th>2</th>\n",
       "      <td>The North Face Peaks cropped t-shirt in black/...</td>\n",
       "      <td>The North Face</td>\n",
       "      <td>£25.00</td>\n",
       "      <td>£10.00</td>\n",
       "    </tr>\n",
       "    <tr>\n",
       "      <th>3</th>\n",
       "      <td>Il Sarto logo print t-shirt in blush</td>\n",
       "      <td>Il Sarto</td>\n",
       "      <td>£19.00</td>\n",
       "      <td>£8.55</td>\n",
       "    </tr>\n",
       "    <tr>\n",
       "      <th>4</th>\n",
       "      <td>Jack &amp; Jones Plus vest in navy &amp; grey</td>\n",
       "      <td>Jack &amp; Jones</td>\n",
       "      <td>£12.00</td>\n",
       "      <td>£4.80</td>\n",
       "    </tr>\n",
       "    <tr>\n",
       "      <th>...</th>\n",
       "      <td>...</td>\n",
       "      <td>...</td>\n",
       "      <td>...</td>\n",
       "      <td>...</td>\n",
       "    </tr>\n",
       "    <tr>\n",
       "      <th>1435</th>\n",
       "      <td>Liquor N Poker Tennis Club retro cuba shorts c...</td>\n",
       "      <td>Liquor N Poker</td>\n",
       "      <td>£55.00</td>\n",
       "      <td>£19.25</td>\n",
       "    </tr>\n",
       "    <tr>\n",
       "      <th>1436</th>\n",
       "      <td>Gym 365 jersey logo shorts in navy</td>\n",
       "      <td>Gym 365</td>\n",
       "      <td>£19.00</td>\n",
       "      <td>£11.40</td>\n",
       "    </tr>\n",
       "    <tr>\n",
       "      <th>1437</th>\n",
       "      <td>Il Sarto backprint t-shirt in blue</td>\n",
       "      <td>Il Sarto</td>\n",
       "      <td>£18.00</td>\n",
       "      <td>£8.10</td>\n",
       "    </tr>\n",
       "    <tr>\n",
       "      <th>1438</th>\n",
       "      <td>ASOS DESIGN tapered smart trouser in navy</td>\n",
       "      <td>ASOS DESIGN</td>\n",
       "      <td>£30.00</td>\n",
       "      <td>£12.00</td>\n",
       "    </tr>\n",
       "    <tr>\n",
       "      <th>1439</th>\n",
       "      <td>ASOS DESIGN knitted muscle fit rib t-shirt in ...</td>\n",
       "      <td>ASOS DESIGN</td>\n",
       "      <td>£20.00</td>\n",
       "      <td>£7.65</td>\n",
       "    </tr>\n",
       "  </tbody>\n",
       "</table>\n",
       "<p>1440 rows × 4 columns</p>\n",
       "</div>"
      ],
      "text/plain": [
       "                                                   Name           Brand  \\\n",
       "0     Soul Star muscle fit ribbed roll neck jumper i...       Soul Star   \n",
       "1     Puma skate towelling t-shirt in yellow exclusi...            Puma   \n",
       "2     The North Face Peaks cropped t-shirt in black/...  The North Face   \n",
       "3                  Il Sarto logo print t-shirt in blush        Il Sarto   \n",
       "4                 Jack & Jones Plus vest in navy & grey    Jack & Jones   \n",
       "...                                                 ...             ...   \n",
       "1435  Liquor N Poker Tennis Club retro cuba shorts c...  Liquor N Poker   \n",
       "1436                 Gym 365 jersey logo shorts in navy         Gym 365   \n",
       "1437                 Il Sarto backprint t-shirt in blue        Il Sarto   \n",
       "1438          ASOS DESIGN tapered smart trouser in navy     ASOS DESIGN   \n",
       "1439  ASOS DESIGN knitted muscle fit rib t-shirt in ...     ASOS DESIGN   \n",
       "\n",
       "     Previous_price Current_price  \n",
       "0            £16.00        £11.20  \n",
       "1            £37.00        £14.80  \n",
       "2            £25.00        £10.00  \n",
       "3            £19.00         £8.55  \n",
       "4            £12.00         £4.80  \n",
       "...             ...           ...  \n",
       "1435         £55.00        £19.25  \n",
       "1436         £19.00        £11.40  \n",
       "1437         £18.00         £8.10  \n",
       "1438         £30.00        £12.00  \n",
       "1439         £20.00         £7.65  \n",
       "\n",
       "[1440 rows x 4 columns]"
      ]
     },
     "execution_count": 17,
     "metadata": {},
     "output_type": "execute_result"
    }
   ],
   "source": [
    "Asos_items"
   ]
  },
  {
   "cell_type": "code",
   "execution_count": 18,
   "id": "d2646ad4",
   "metadata": {},
   "outputs": [],
   "source": [
    "#import to excel\n",
    "Asos_items.to_excel('ecommerce_Asos.xlsx',index=False)"
   ]
  },
  {
   "cell_type": "code",
   "execution_count": null,
   "id": "b2779886",
   "metadata": {},
   "outputs": [],
   "source": []
  }
 ],
 "metadata": {
  "kernelspec": {
   "display_name": "Python 3 (ipykernel)",
   "language": "python",
   "name": "python3"
  },
  "language_info": {
   "codemirror_mode": {
    "name": "ipython",
    "version": 3
   },
   "file_extension": ".py",
   "mimetype": "text/x-python",
   "name": "python",
   "nbconvert_exporter": "python",
   "pygments_lexer": "ipython3",
   "version": "3.9.7"
  }
 },
 "nbformat": 4,
 "nbformat_minor": 5
}
