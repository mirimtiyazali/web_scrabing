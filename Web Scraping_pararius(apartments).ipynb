{
 "cells": [
  {
   "cell_type": "code",
   "execution_count": 3,
   "id": "c5bdd2d5",
   "metadata": {},
   "outputs": [],
   "source": [
    "from bs4 import BeautifulSoup\n",
    "import requests\n",
    "from csv import writer\n",
    "import csv"
   ]
  },
  {
   "cell_type": "code",
   "execution_count": 4,
   "id": "e7a5825b",
   "metadata": {},
   "outputs": [
    {
     "name": "stdout",
     "output_type": "stream",
     "text": [
      "<Response [200]>\n"
     ]
    }
   ],
   "source": [
    "url='https://www.pararius.com/apartments/nederland'\n",
    "\n",
    "page=requests.get(url)\n",
    "print(page)"
   ]
  },
  {
   "cell_type": "markdown",
   "id": "41af9c12",
   "metadata": {},
   "source": [
    "#HTTP RESPONSE STATUS CODE\n",
    "informational responses(100-199)\n",
    "sucessful responses(200-299)\n",
    "redirects(300-399)\n",
    "client error(400-499)\n",
    "server errors(500-599)"
   ]
  },
  {
   "cell_type": "code",
   "execution_count": 5,
   "id": "9ca47d24",
   "metadata": {},
   "outputs": [],
   "source": [
    "page=requests.get(url)\n",
    "soup = BeautifulSoup(page.content,'html.parser')\n",
    "lists = soup.find_all('section',class_='listing-search-item')\n",
    "\n",
    "csv_file = open('pararius','w')\n",
    "csv_writer = csv.writer(csv_file)\n",
    "csv_writer.writerow(['title','location','price','area'])\n",
    "    \n",
    "for list in lists:\n",
    "    title = list.find('a',class_='listing-search-item__link--title').text\n",
    "    location = list.find('div',class_='listing-search-item__location').text\n",
    "    price = list.find('div',class_='listing-search-item__price').text\n",
    "    area = list.find( 'li',class_= 'illustrated-features__item--surface-area').text\n",
    "    \n",
    "    info=[title,location,price,area]\n",
    "    print(info)\n",
    "    \n",
    "    csv_writer.writerow([title,location,price,area])\n",
    "csv_file.close()\n",
    "    \n",
    "    \n",
    "        \n",
    "    \n",
    "    "
   ]
  },
  {
   "cell_type": "code",
   "execution_count": 3,
   "id": "ec82ca4d",
   "metadata": {},
   "outputs": [],
   "source": []
  },
  {
   "cell_type": "code",
   "execution_count": 7,
   "id": "a09ba7d4",
   "metadata": {},
   "outputs": [],
   "source": []
  },
  {
   "cell_type": "code",
   "execution_count": null,
   "id": "cc99a3dd",
   "metadata": {},
   "outputs": [],
   "source": []
  }
 ],
 "metadata": {
  "kernelspec": {
   "display_name": "Python 3 (ipykernel)",
   "language": "python",
   "name": "python3"
  },
  "language_info": {
   "codemirror_mode": {
    "name": "ipython",
    "version": 3
   },
   "file_extension": ".py",
   "mimetype": "text/x-python",
   "name": "python",
   "nbconvert_exporter": "python",
   "pygments_lexer": "ipython3",
   "version": "3.9.7"
  }
 },
 "nbformat": 4,
 "nbformat_minor": 5
}
